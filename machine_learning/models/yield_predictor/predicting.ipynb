{
 "cells": [
  {
   "cell_type": "code",
   "execution_count": null,
   "id": "initial_id",
   "metadata": {
    "collapsed": true
   },
   "outputs": [],
   "source": [
    "import joblib\n",
    "import pandas as pd\n",
    "\n",
    "# Load the frequency mapping, scaler, and model\n",
    "freq_map = joblib.load('crop_frequency_mapping.pkl')\n",
    "scaler = joblib.load('scaler.pkl')\n",
    "model = joblib.load('crop_yield_model.pkl')\n",
    "\n",
    "# User input\n",
    "user_input = {\n",
    "    'rainfall': 450,\n",
    "    'pesticide': 18,\n",
    "    'crop_type': 'wheat'  # User provides the crop name\n",
    "}\n",
    "\n",
    "# Encode the crop type\n",
    "user_input['crop_type_freq'] = freq_map[user_input['crop_type']]\n",
    "\n",
    "# Convert to DataFrame\n",
    "input_df = pd.DataFrame([user_input])\n",
    "\n",
    "# Scale numerical features\n",
    "input_df[['rainfall', 'pesticide']] = scaler.transform(input_df[['rainfall', 'pesticide']])\n",
    "\n",
    "# Predict yield\n",
    "predicted_yield = model.predict(input_df[['rainfall', 'pesticide', 'crop_type_freq']])\n",
    "print(f\"Predicted Yield: {predicted_yield[0]:.2f} tons/hectare\")"
   ]
  }
 ],
 "metadata": {
  "kernelspec": {
   "display_name": "Python 3",
   "language": "python",
   "name": "python3"
  },
  "language_info": {
   "codemirror_mode": {
    "name": "ipython",
    "version": 2
   },
   "file_extension": ".py",
   "mimetype": "text/x-python",
   "name": "python",
   "nbconvert_exporter": "python",
   "pygments_lexer": "ipython2",
   "version": "2.7.6"
  }
 },
 "nbformat": 4,
 "nbformat_minor": 5
}
